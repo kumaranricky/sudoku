{
 "cells": [
  {
   "cell_type": "code",
   "execution_count": 78,
   "id": "365a23bc",
   "metadata": {},
   "outputs": [],
   "source": [
    "%matplotlib inline\n",
    "import matplotlib.pyplot as plt\n",
    "import random\n",
    "import math\n",
    "import sys\n",
    "import time"
   ]
  },
  {
   "cell_type": "code",
   "execution_count": 79,
   "id": "6ba202bf",
   "metadata": {},
   "outputs": [],
   "source": [
    "rows = 'ABCDEFGHI'\n",
    "cols = '123456789'\n",
    "def cross(a,b):\n",
    "    return [i+j for i in a for j in b]"
   ]
  },
  {
   "cell_type": "code",
   "execution_count": 80,
   "id": "b942bede",
   "metadata": {},
   "outputs": [],
   "source": [
    "boxes=cross(rows,cols)\n"
   ]
  },
  {
   "cell_type": "code",
   "execution_count": 81,
   "id": "cd165b45",
   "metadata": {},
   "outputs": [],
   "source": [
    "ru=[cross(r,cols) for r in rows]\n",
    "cu=[cross(rows,c) for c in cols]\n",
    "su=[cross(rs,cs) for rs in ('ABC','DEF','GHI') for cs in('123','456','789')]\n",
    "ul=ru+cu+su\n",
    "\n",
    "units = dict((s, [u for u in ul if s in u]) \n",
    "             for s in boxes)\n",
    "peers = dict((s, set(sum(units[s],[]))-set([s]))\n",
    "             for s in boxes)\n"
   ]
  },
  {
   "cell_type": "code",
   "execution_count": 82,
   "id": "cca43d85",
   "metadata": {},
   "outputs": [],
   "source": [
    "def display(values):\n",
    "    width = 1+max(len(values[s]) for s in boxes)\n",
    "    line = '+'.join(['-'*(width*3)]*3)\n",
    "    for r in rows:\n",
    "        print(''.join(values[r+c].center (width)+('|' if c in '36' else '') for c in cols))\n",
    "        if r in 'CF': print(line)\n",
    "\n",
    "    return"
   ]
  },
  {
   "cell_type": "code",
   "execution_count": 83,
   "id": "bae704bd",
   "metadata": {},
   "outputs": [],
   "source": [
    "def grid_values(grid):\n",
    "    assert len(grid) == 81, \"Input grid must be a string length of 81 (9x9)\"\n",
    "    boxes = cross(rows,cols)\n",
    "    return dict(zip(boxes,grid))"
   ]
  },
  {
   "cell_type": "code",
   "execution_count": 84,
   "id": "4b96bbad",
   "metadata": {},
   "outputs": [],
   "source": [
    "def grid_values_improved(grid):\n",
    "    values = []\n",
    "    all_digits = '123456789'\n",
    "    for c in grid:\n",
    "        if c == '.':\n",
    "            values.append(all_digits)\n",
    "        elif c in all_digits:\n",
    "                values.append(c)\n",
    "    assert len(values) == 81\n",
    "    boxes = cross(rows,cols)\n",
    "    return dict(zip(boxes,values))"
   ]
  },
  {
   "cell_type": "code",
   "execution_count": 85,
   "id": "b2ff604f",
   "metadata": {},
   "outputs": [],
   "source": [
    "def elimination(values):\n",
    "    solved_values = [box for box in values.keys() if len(values[box])==1]\n",
    "    for box in solved_values:\n",
    "        digit = values[box]\n",
    "        for peer in peers[box]:\n",
    "            values[peer] = values[peer].replace(digit,'')\n",
    "    return values"
   ]
  },
  {
   "cell_type": "code",
   "execution_count": 86,
   "id": "fa58c707",
   "metadata": {},
   "outputs": [],
   "source": [
    "def only_choice(values):\n",
    "    for unit in ul:\n",
    "        for digit in '123456789':\n",
    "            dplaces = [box for box in unit if digit in values[box]]\n",
    "            if len(dplaces) == 1:\n",
    "                values[dplaces[0]] = digit\n",
    "    return values"
   ]
  },
  {
   "cell_type": "code",
   "execution_count": 87,
   "id": "93465fdb",
   "metadata": {},
   "outputs": [],
   "source": [
    "def reduce_puzzle(values):\n",
    "    stalled =False\n",
    "    while not stalled:\n",
    "        solved_values_before = len([box for box in values.keys() if len(values[box])==1])\n",
    "        elimination(values)\n",
    "        only_choice(values)\n",
    "        solved_values_after = len([box for box in values.keys() if len(values[box])==1])\n",
    "        stalled = solved_values_after == solved_values_before\n",
    "        if len([box for box in values.keys() if len(values[box])==1])==0:\n",
    "            return False\n",
    "    return values"
   ]
  },
  {
   "cell_type": "code",
   "execution_count": 88,
   "id": "c3f5ffa7",
   "metadata": {},
   "outputs": [],
   "source": [
    "def search(values):\n",
    "    values_reduced = reduce_puzzle(values)\n",
    "    if not values_reduced:\n",
    "        return False\n",
    "    else:\n",
    "        values=values_reduced\n",
    "    if len([box for box in values.keys() if len(values[box])==1])==81:\n",
    "        return values\n",
    "    \n",
    "    possibility_count_list = [(len(values[box]),box) for box in values.keys() if len(values[box])>1]\n",
    "    \n",
    "    possibility_count_list.sort()\n",
    "    for(_,t_box_min) in possibility_count_list:\n",
    "        for i_digit in values[t_box_min]:\n",
    "            new_values = values.copy()\n",
    "            new_values[t_box_min]=i_digit\n",
    "            new_values = search(new_values)\n",
    "            if new_values:\n",
    "                return new_values\n",
    "            \n",
    "    return values\n",
    "\n"
   ]
  },
  {
   "cell_type": "code",
   "execution_count": 90,
   "id": "43a020d3",
   "metadata": {},
   "outputs": [
    {
     "name": "stdout",
     "output_type": "stream",
     "text": [
      "['A1', 'A2', 'A3', 'A4', 'A5', 'A6', 'A7', 'A8', 'A9']\n",
      "['A1', 'B1', 'C1', 'D1', 'E1', 'F1', 'G1', 'H1', 'I1']\n",
      "['A1', 'A2', 'A3', 'B1', 'B2', 'B3', 'C1', 'C2', 'C3']\n",
      "\n",
      "\n",
      "['A1', 'A2', 'A3', 'A4', 'A5', 'A6', 'A7', 'A8', 'A9']\n",
      "\n",
      "\n",
      "['A1', 'A2', 'A3', 'A4', 'A5', 'A6', 'A7', 'A8', 'A9', 'B1', 'B2', 'B3', 'B4', 'B5', 'B6', 'B7', 'B8', 'B9', 'C1', 'C2', 'C3', 'C4', 'C5', 'C6', 'C7', 'C8', 'C9', 'D1', 'D2', 'D3', 'D4', 'D5', 'D6', 'D7', 'D8', 'D9', 'E1', 'E2', 'E3', 'E4', 'E5', 'E6', 'E7', 'E8', 'E9', 'F1', 'F2', 'F3', 'F4', 'F5', 'F6', 'F7', 'F8', 'F9', 'G1', 'G2', 'G3', 'G4', 'G5', 'G6', 'G7', 'G8', 'G9', 'H1', 'H2', 'H3', 'H4', 'H5', 'H6', 'H7', 'H8', 'H9', 'I1', 'I2', 'I3', 'I4', 'I5', 'I6', 'I7', 'I8', 'I9']\n",
      "\n",
      "\n",
      "\n",
      "Displaying in dict format:\n",
      "5 3 . |. 7 . |. . . \n",
      "6 . . |1 9 5 |. . . \n",
      ". 9 8 |. . . |. 6 . \n",
      "------+------+------\n",
      "8 . . |. 6 . |. . 3 \n",
      "4 . . |8 . 3 |. . 1 \n",
      "7 . . |. 2 . |. . 6 \n",
      "------+------+------\n",
      ". 6 . |. . . |2 8 . \n",
      ". . . |4 1 9 |. . 5 \n",
      ". . . |. 8 . |. 7 9 \n",
      "None\n",
      "\n",
      "\n",
      "\n",
      "Only choice:\n",
      "    5         3     123456789 |123456789     7     123456789 |123456789 123456789 123456789 \n",
      "    6     123456789 123456789 |    1         9         5     |123456789 123456789 123456789 \n",
      "123456789     9         8     |123456789 123456789 123456789 |123456789     6     123456789 \n",
      "------------------------------+------------------------------+------------------------------\n",
      "    8     123456789 123456789 |123456789     6     123456789 |123456789 123456789     3     \n",
      "    4     123456789 123456789 |    8     123456789     3     |123456789 123456789     1     \n",
      "    7     123456789 123456789 |123456789     2     123456789 |123456789 123456789     6     \n",
      "------------------------------+------------------------------+------------------------------\n",
      "123456789     6     123456789 |123456789 123456789 123456789 |    2         8     123456789 \n",
      "123456789 123456789 123456789 |    4         1         9     |123456789 123456789     5     \n",
      "123456789 123456789 123456789 |123456789     8     123456789 |123456789     7         9     \n",
      "\n",
      "\n",
      "\n",
      "Final result:\n",
      "5 3 4 |6 7 8 |9 1 2 \n",
      "6 7 2 |1 9 5 |3 4 8 \n",
      "1 9 8 |3 4 2 |5 6 7 \n",
      "------+------+------\n",
      "8 5 9 |7 6 1 |4 2 3 \n",
      "4 2 6 |8 5 3 |7 9 1 \n",
      "7 1 3 |9 2 4 |8 5 6 \n",
      "------+------+------\n",
      "9 6 1 |5 3 7 |2 8 4 \n",
      "2 8 7 |4 1 9 |6 3 5 \n",
      "3 4 5 |2 8 6 |1 7 9 \n",
      "\n",
      "\n",
      "0.0 seconds\n"
     ]
    }
   ],
   "source": [
    "c"
   ]
  },
  {
   "cell_type": "code",
   "execution_count": null,
   "id": "146b5ba0",
   "metadata": {},
   "outputs": [],
   "source": []
  },
  {
   "cell_type": "code",
   "execution_count": null,
   "id": "c2d8d6c9",
   "metadata": {},
   "outputs": [],
   "source": []
  }
 ],
 "metadata": {
  "kernelspec": {
   "display_name": "Python 3",
   "language": "python",
   "name": "python3"
  },
  "language_info": {
   "codemirror_mode": {
    "name": "ipython",
    "version": 3
   },
   "file_extension": ".py",
   "mimetype": "text/x-python",
   "name": "python",
   "nbconvert_exporter": "python",
   "pygments_lexer": "ipython3",
   "version": "3.8.8"
  }
 },
 "nbformat": 4,
 "nbformat_minor": 5
}
